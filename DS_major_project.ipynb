{
  "nbformat": 4,
  "nbformat_minor": 0,
  "metadata": {
    "colab": {
      "name": "DS_major_project.ipynb",
      "provenance": [],
      "collapsed_sections": []
    },
    "kernelspec": {
      "name": "python3",
      "display_name": "Python 3"
    },
    "language_info": {
      "name": "python"
    }
  },
  "cells": [
    {
      "cell_type": "code",
      "metadata": {
        "id": "HEKI0jUDXlot"
      },
      "source": [
        "#importing dataset\n",
        "\n",
        "import pandas as pd\n",
        "\n",
        "df = pd.read_excel(\"/content/owid-covid-data.xlsx\")"
      ],
      "execution_count": null,
      "outputs": []
    },
    {
      "cell_type": "code",
      "metadata": {
        "id": "oyYVSpdW6Sx_"
      },
      "source": [
        "#Selecting the required columns\n",
        "\n",
        "df = df[[\"location\",\"date\",\"total_cases\"]]"
      ],
      "execution_count": null,
      "outputs": []
    },
    {
      "cell_type": "code",
      "metadata": {
        "id": "cVxW_dp11EQe"
      },
      "source": [
        "#Filtering the country: India\n",
        "\n",
        "df['location'] = df['location'].where(df['location'] == \"India\")"
      ],
      "execution_count": null,
      "outputs": []
    },
    {
      "cell_type": "code",
      "metadata": {
        "colab": {
          "base_uri": "https://localhost:8080/",
          "height": 415
        },
        "id": "uHlWRW_f35ac",
        "outputId": "c776cce6-cf84-4b22-9432-8e1ab519676b"
      },
      "source": [
        "#Dropping null values\n",
        "\n",
        "df = df.dropna()\n",
        "df"
      ],
      "execution_count": null,
      "outputs": [
        {
          "output_type": "execute_result",
          "data": {
            "text/html": [
              "<div>\n",
              "<style scoped>\n",
              "    .dataframe tbody tr th:only-of-type {\n",
              "        vertical-align: middle;\n",
              "    }\n",
              "\n",
              "    .dataframe tbody tr th {\n",
              "        vertical-align: top;\n",
              "    }\n",
              "\n",
              "    .dataframe thead th {\n",
              "        text-align: right;\n",
              "    }\n",
              "</style>\n",
              "<table border=\"1\" class=\"dataframe\">\n",
              "  <thead>\n",
              "    <tr style=\"text-align: right;\">\n",
              "      <th></th>\n",
              "      <th>location</th>\n",
              "      <th>date</th>\n",
              "      <th>total_cases</th>\n",
              "    </tr>\n",
              "  </thead>\n",
              "  <tbody>\n",
              "    <tr>\n",
              "      <th>35103</th>\n",
              "      <td>India</td>\n",
              "      <td>2020-01-30</td>\n",
              "      <td>1.0</td>\n",
              "    </tr>\n",
              "    <tr>\n",
              "      <th>35104</th>\n",
              "      <td>India</td>\n",
              "      <td>2020-01-31</td>\n",
              "      <td>1.0</td>\n",
              "    </tr>\n",
              "    <tr>\n",
              "      <th>35105</th>\n",
              "      <td>India</td>\n",
              "      <td>2020-02-01</td>\n",
              "      <td>1.0</td>\n",
              "    </tr>\n",
              "    <tr>\n",
              "      <th>35106</th>\n",
              "      <td>India</td>\n",
              "      <td>2020-02-02</td>\n",
              "      <td>2.0</td>\n",
              "    </tr>\n",
              "    <tr>\n",
              "      <th>35107</th>\n",
              "      <td>India</td>\n",
              "      <td>2020-02-03</td>\n",
              "      <td>3.0</td>\n",
              "    </tr>\n",
              "    <tr>\n",
              "      <th>...</th>\n",
              "      <td>...</td>\n",
              "      <td>...</td>\n",
              "      <td>...</td>\n",
              "    </tr>\n",
              "    <tr>\n",
              "      <th>35556</th>\n",
              "      <td>India</td>\n",
              "      <td>2021-04-27</td>\n",
              "      <td>17997113.0</td>\n",
              "    </tr>\n",
              "    <tr>\n",
              "      <th>35557</th>\n",
              "      <td>India</td>\n",
              "      <td>2021-04-28</td>\n",
              "      <td>18376421.0</td>\n",
              "    </tr>\n",
              "    <tr>\n",
              "      <th>35558</th>\n",
              "      <td>India</td>\n",
              "      <td>2021-04-29</td>\n",
              "      <td>18762976.0</td>\n",
              "    </tr>\n",
              "    <tr>\n",
              "      <th>35559</th>\n",
              "      <td>India</td>\n",
              "      <td>2021-04-30</td>\n",
              "      <td>19164969.0</td>\n",
              "    </tr>\n",
              "    <tr>\n",
              "      <th>35560</th>\n",
              "      <td>India</td>\n",
              "      <td>2021-05-01</td>\n",
              "      <td>19557457.0</td>\n",
              "    </tr>\n",
              "  </tbody>\n",
              "</table>\n",
              "<p>458 rows × 3 columns</p>\n",
              "</div>"
            ],
            "text/plain": [
              "      location        date  total_cases\n",
              "35103    India  2020-01-30          1.0\n",
              "35104    India  2020-01-31          1.0\n",
              "35105    India  2020-02-01          1.0\n",
              "35106    India  2020-02-02          2.0\n",
              "35107    India  2020-02-03          3.0\n",
              "...        ...         ...          ...\n",
              "35556    India  2021-04-27   17997113.0\n",
              "35557    India  2021-04-28   18376421.0\n",
              "35558    India  2021-04-29   18762976.0\n",
              "35559    India  2021-04-30   19164969.0\n",
              "35560    India  2021-05-01   19557457.0\n",
              "\n",
              "[458 rows x 3 columns]"
            ]
          },
          "metadata": {
            "tags": []
          },
          "execution_count": 98
        }
      ]
    },
    {
      "cell_type": "code",
      "metadata": {
        "colab": {
          "base_uri": "https://localhost:8080/",
          "height": 415
        },
        "id": "t4QtO6427gdO",
        "outputId": "c031b297-a685-466e-e9db-d115d1fb640a"
      },
      "source": [
        "#Dropping location column\n",
        "\n",
        "df = df.drop([\"location\"], axis=1)\n",
        "df"
      ],
      "execution_count": null,
      "outputs": [
        {
          "output_type": "execute_result",
          "data": {
            "text/html": [
              "<div>\n",
              "<style scoped>\n",
              "    .dataframe tbody tr th:only-of-type {\n",
              "        vertical-align: middle;\n",
              "    }\n",
              "\n",
              "    .dataframe tbody tr th {\n",
              "        vertical-align: top;\n",
              "    }\n",
              "\n",
              "    .dataframe thead th {\n",
              "        text-align: right;\n",
              "    }\n",
              "</style>\n",
              "<table border=\"1\" class=\"dataframe\">\n",
              "  <thead>\n",
              "    <tr style=\"text-align: right;\">\n",
              "      <th></th>\n",
              "      <th>date</th>\n",
              "      <th>total_cases</th>\n",
              "    </tr>\n",
              "  </thead>\n",
              "  <tbody>\n",
              "    <tr>\n",
              "      <th>35103</th>\n",
              "      <td>2020-01-30</td>\n",
              "      <td>1.0</td>\n",
              "    </tr>\n",
              "    <tr>\n",
              "      <th>35104</th>\n",
              "      <td>2020-01-31</td>\n",
              "      <td>1.0</td>\n",
              "    </tr>\n",
              "    <tr>\n",
              "      <th>35105</th>\n",
              "      <td>2020-02-01</td>\n",
              "      <td>1.0</td>\n",
              "    </tr>\n",
              "    <tr>\n",
              "      <th>35106</th>\n",
              "      <td>2020-02-02</td>\n",
              "      <td>2.0</td>\n",
              "    </tr>\n",
              "    <tr>\n",
              "      <th>35107</th>\n",
              "      <td>2020-02-03</td>\n",
              "      <td>3.0</td>\n",
              "    </tr>\n",
              "    <tr>\n",
              "      <th>...</th>\n",
              "      <td>...</td>\n",
              "      <td>...</td>\n",
              "    </tr>\n",
              "    <tr>\n",
              "      <th>35556</th>\n",
              "      <td>2021-04-27</td>\n",
              "      <td>17997113.0</td>\n",
              "    </tr>\n",
              "    <tr>\n",
              "      <th>35557</th>\n",
              "      <td>2021-04-28</td>\n",
              "      <td>18376421.0</td>\n",
              "    </tr>\n",
              "    <tr>\n",
              "      <th>35558</th>\n",
              "      <td>2021-04-29</td>\n",
              "      <td>18762976.0</td>\n",
              "    </tr>\n",
              "    <tr>\n",
              "      <th>35559</th>\n",
              "      <td>2021-04-30</td>\n",
              "      <td>19164969.0</td>\n",
              "    </tr>\n",
              "    <tr>\n",
              "      <th>35560</th>\n",
              "      <td>2021-05-01</td>\n",
              "      <td>19557457.0</td>\n",
              "    </tr>\n",
              "  </tbody>\n",
              "</table>\n",
              "<p>458 rows × 2 columns</p>\n",
              "</div>"
            ],
            "text/plain": [
              "             date  total_cases\n",
              "35103  2020-01-30          1.0\n",
              "35104  2020-01-31          1.0\n",
              "35105  2020-02-01          1.0\n",
              "35106  2020-02-02          2.0\n",
              "35107  2020-02-03          3.0\n",
              "...           ...          ...\n",
              "35556  2021-04-27   17997113.0\n",
              "35557  2021-04-28   18376421.0\n",
              "35558  2021-04-29   18762976.0\n",
              "35559  2021-04-30   19164969.0\n",
              "35560  2021-05-01   19557457.0\n",
              "\n",
              "[458 rows x 2 columns]"
            ]
          },
          "metadata": {
            "tags": []
          },
          "execution_count": 99
        }
      ]
    },
    {
      "cell_type": "code",
      "metadata": {
        "id": "UiViLvT16lfy"
      },
      "source": [
        "#Renaming columns\n",
        "\n",
        "df = df.rename(columns = {\"date\" : \"ds\",\n",
        "                          \"total_cases\" : \"y\"})"
      ],
      "execution_count": null,
      "outputs": []
    },
    {
      "cell_type": "code",
      "metadata": {
        "colab": {
          "base_uri": "https://localhost:8080/"
        },
        "id": "krtt_dyM6_Dw",
        "outputId": "a10b91c0-e6ea-41d2-d052-558cf0d7f2d9"
      },
      "source": [
        "df.info()"
      ],
      "execution_count": null,
      "outputs": [
        {
          "output_type": "stream",
          "text": [
            "<class 'pandas.core.frame.DataFrame'>\n",
            "Int64Index: 458 entries, 35103 to 35560\n",
            "Data columns (total 2 columns):\n",
            " #   Column  Non-Null Count  Dtype  \n",
            "---  ------  --------------  -----  \n",
            " 0   ds      458 non-null    object \n",
            " 1   y       458 non-null    float64\n",
            "dtypes: float64(1), object(1)\n",
            "memory usage: 10.7+ KB\n"
          ],
          "name": "stdout"
        }
      ]
    },
    {
      "cell_type": "code",
      "metadata": {
        "colab": {
          "base_uri": "https://localhost:8080/"
        },
        "id": "-oQ-dno38B8S",
        "outputId": "6f00c392-c7da-4ee6-c99d-71b95129ca42"
      },
      "source": [
        "#Converting data types\n",
        "\n",
        "import pandas as pd\n",
        " \n",
        "df['ds'] = pd.to_datetime(df['ds'])\n",
        "df['y'] = df['y'].astype(int)\n",
        "df.info()"
      ],
      "execution_count": null,
      "outputs": [
        {
          "output_type": "stream",
          "text": [
            "<class 'pandas.core.frame.DataFrame'>\n",
            "Int64Index: 458 entries, 35103 to 35560\n",
            "Data columns (total 2 columns):\n",
            " #   Column  Non-Null Count  Dtype         \n",
            "---  ------  --------------  -----         \n",
            " 0   ds      458 non-null    datetime64[ns]\n",
            " 1   y       458 non-null    int64         \n",
            "dtypes: datetime64[ns](1), int64(1)\n",
            "memory usage: 10.7 KB\n"
          ],
          "name": "stdout"
        }
      ]
    },
    {
      "cell_type": "code",
      "metadata": {
        "colab": {
          "base_uri": "https://localhost:8080/",
          "height": 331
        },
        "id": "xgnR8keb8y5j",
        "outputId": "1d9168a1-30fd-41fb-cf54-b29e7232dbfd"
      },
      "source": [
        "import matplotlib.pyplot as plt\n",
        "\n",
        "plt.figure(figsize=(20,5))    \n",
        "plt.plot(df['ds'],df['y'])\n",
        "plt.show()"
      ],
      "execution_count": null,
      "outputs": [
        {
          "output_type": "display_data",
          "data": {
            "image/png": "[encoded data removed]",
            "text/plain": [
              "<Figure size 1440x360 with 1 Axes>"
            ]
          },
          "metadata": {
            "tags": [],
            "needs_background": "light"
          }
        }
      ]
    },
    {
      "cell_type": "code",
      "metadata": {
        "colab": {
          "base_uri": "https://localhost:8080/"
        },
        "id": "vTS4M_rD9EoG",
        "outputId": "c8bc51f5-78fd-484c-dcc5-a6ae95ea61a6"
      },
      "source": [
        "#Forecasting\n",
        "\n",
        "from fbprophet import Prophet\n",
        "\n",
        "model = Prophet(changepoint_prior_scale=0.07)\n",
        "model.fit(df)"
      ],
      "execution_count": null,
      "outputs": [
        {
          "output_type": "stream",
          "text": [
            "INFO:fbprophet:Disabling yearly seasonality. Run prophet with yearly_seasonality=True to override this.\n",
            "INFO:fbprophet:Disabling daily seasonality. Run prophet with daily_seasonality=True to override this.\n"
          ],
          "name": "stderr"
        },
        {
          "output_type": "execute_result",
          "data": {
            "text/plain": [
              "<fbprophet.forecaster.Prophet at 0x7f25a6693050>"
            ]
          },
          "metadata": {
            "tags": []
          },
          "execution_count": 104
        }
      ]
    },
    {
      "cell_type": "code",
      "metadata": {
        "colab": {
          "base_uri": "https://localhost:8080/",
          "height": 441
        },
        "id": "8Sc2uhil9UhC",
        "outputId": "55f9013b-8330-422b-8d74-7208c9725488"
      },
      "source": [
        "forecast = model.make_future_dataframe(periods = 120 , freq = \"D\")\n",
        "forecast = model.predict(forecast)\n",
        "model.plot(forecast , xlabel=\"Date\" , ylabel = \"Total Cases\");"
      ],
      "execution_count": null,
      "outputs": [
        {
          "output_type": "display_data",
          "data": {
            "image/png": "[encoded data removed]",
            "text/plain": [
              "<Figure size 720x432 with 1 Axes>"
            ]
          },
          "metadata": {
            "tags": []
          }
        }
      ]
    },
    {
      "cell_type": "code",
      "metadata": {
        "colab": {
          "base_uri": "https://localhost:8080/",
          "height": 415
        },
        "id": "tKmQpdcoBeUA",
        "outputId": "e8be6ff0-c982-4d38-8278-fe492705ad9f"
      },
      "source": [
        "forecast[['ds','yhat','yhat_lower','yhat_upper']]"
      ],
      "execution_count": null,
      "outputs": [
        {
          "output_type": "execute_result",
          "data": {
            "text/html": [
              "<div>\n",
              "<style scoped>\n",
              "    .dataframe tbody tr th:only-of-type {\n",
              "        vertical-align: middle;\n",
              "    }\n",
              "\n",
              "    .dataframe tbody tr th {\n",
              "        vertical-align: top;\n",
              "    }\n",
              "\n",
              "    .dataframe thead th {\n",
              "        text-align: right;\n",
              "    }\n",
              "</style>\n",
              "<table border=\"1\" class=\"dataframe\">\n",
              "  <thead>\n",
              "    <tr style=\"text-align: right;\">\n",
              "      <th></th>\n",
              "      <th>ds</th>\n",
              "      <th>yhat</th>\n",
              "      <th>yhat_lower</th>\n",
              "      <th>yhat_upper</th>\n",
              "    </tr>\n",
              "  </thead>\n",
              "  <tbody>\n",
              "    <tr>\n",
              "      <th>0</th>\n",
              "      <td>2020-01-30</td>\n",
              "      <td>-5.645366e+04</td>\n",
              "      <td>-8.878962e+05</td>\n",
              "      <td>7.016739e+05</td>\n",
              "    </tr>\n",
              "    <tr>\n",
              "      <th>1</th>\n",
              "      <td>2020-01-31</td>\n",
              "      <td>-4.263897e+04</td>\n",
              "      <td>-8.305266e+05</td>\n",
              "      <td>7.618684e+05</td>\n",
              "    </tr>\n",
              "    <tr>\n",
              "      <th>2</th>\n",
              "      <td>2020-02-01</td>\n",
              "      <td>-2.854566e+04</td>\n",
              "      <td>-8.364558e+05</td>\n",
              "      <td>7.408275e+05</td>\n",
              "    </tr>\n",
              "    <tr>\n",
              "      <th>3</th>\n",
              "      <td>2020-02-02</td>\n",
              "      <td>-8.575434e+04</td>\n",
              "      <td>-8.364727e+05</td>\n",
              "      <td>6.691895e+05</td>\n",
              "    </tr>\n",
              "    <tr>\n",
              "      <th>4</th>\n",
              "      <td>2020-02-03</td>\n",
              "      <td>-8.203438e+04</td>\n",
              "      <td>-8.110417e+05</td>\n",
              "      <td>7.133844e+05</td>\n",
              "    </tr>\n",
              "    <tr>\n",
              "      <th>...</th>\n",
              "      <td>...</td>\n",
              "      <td>...</td>\n",
              "      <td>...</td>\n",
              "      <td>...</td>\n",
              "    </tr>\n",
              "    <tr>\n",
              "      <th>573</th>\n",
              "      <td>2021-08-25</td>\n",
              "      <td>2.184451e+07</td>\n",
              "      <td>1.947957e+07</td>\n",
              "      <td>2.401246e+07</td>\n",
              "    </tr>\n",
              "    <tr>\n",
              "      <th>574</th>\n",
              "      <td>2021-08-26</td>\n",
              "      <td>2.191371e+07</td>\n",
              "      <td>1.940804e+07</td>\n",
              "      <td>2.420186e+07</td>\n",
              "    </tr>\n",
              "    <tr>\n",
              "      <th>575</th>\n",
              "      <td>2021-08-27</td>\n",
              "      <td>2.198266e+07</td>\n",
              "      <td>1.956817e+07</td>\n",
              "      <td>2.424934e+07</td>\n",
              "    </tr>\n",
              "    <tr>\n",
              "      <th>576</th>\n",
              "      <td>2021-08-28</td>\n",
              "      <td>2.205188e+07</td>\n",
              "      <td>1.961811e+07</td>\n",
              "      <td>2.437859e+07</td>\n",
              "    </tr>\n",
              "    <tr>\n",
              "      <th>577</th>\n",
              "      <td>2021-08-29</td>\n",
              "      <td>2.204981e+07</td>\n",
              "      <td>1.953177e+07</td>\n",
              "      <td>2.437679e+07</td>\n",
              "    </tr>\n",
              "  </tbody>\n",
              "</table>\n",
              "<p>578 rows × 4 columns</p>\n",
              "</div>"
            ],
            "text/plain": [
              "            ds          yhat    yhat_lower    yhat_upper\n",
              "0   2020-01-30 -5.645366e+04 -8.878962e+05  7.016739e+05\n",
              "1   2020-01-31 -4.263897e+04 -8.305266e+05  7.618684e+05\n",
              "2   2020-02-01 -2.854566e+04 -8.364558e+05  7.408275e+05\n",
              "3   2020-02-02 -8.575434e+04 -8.364727e+05  6.691895e+05\n",
              "4   2020-02-03 -8.203438e+04 -8.110417e+05  7.133844e+05\n",
              "..         ...           ...           ...           ...\n",
              "573 2021-08-25  2.184451e+07  1.947957e+07  2.401246e+07\n",
              "574 2021-08-26  2.191371e+07  1.940804e+07  2.420186e+07\n",
              "575 2021-08-27  2.198266e+07  1.956817e+07  2.424934e+07\n",
              "576 2021-08-28  2.205188e+07  1.961811e+07  2.437859e+07\n",
              "577 2021-08-29  2.204981e+07  1.953177e+07  2.437679e+07\n",
              "\n",
              "[578 rows x 4 columns]"
            ]
          },
          "metadata": {
            "tags": []
          },
          "execution_count": 106
        }
      ]
    },
    {
      "cell_type": "code",
      "metadata": {
        "colab": {
          "base_uri": "https://localhost:8080/"
        },
        "id": "gGWIsClZDTks",
        "outputId": "71b40afa-f5fb-4594-e296-0ee0d6b83a2d"
      },
      "source": [
        "#Evaluation\n",
        "\n",
        "from sklearn.metrics import mean_squared_error,r2_score\n",
        "\n",
        "print(mean_squared_error(forecast.loc[0:457,'yhat'],df['y']))\n",
        "print(r2_score(forecast.loc[0:457,'yhat'],df['y']))"
      ],
      "execution_count": null,
      "outputs": [
        {
          "output_type": "stream",
          "text": [
            "353899918247.7658\n",
            "0.9864553848704031\n"
          ],
          "name": "stdout"
        }
      ]
    }
  ]
}